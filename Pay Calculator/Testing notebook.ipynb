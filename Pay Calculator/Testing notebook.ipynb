{
 "cells": [
  {
   "cell_type": "code",
   "execution_count": 1,
   "metadata": {},
   "outputs": [],
   "source": [
    "s = 'string'"
   ]
  },
  {
   "cell_type": "code",
   "execution_count": 2,
   "metadata": {},
   "outputs": [
    {
     "data": {
      "text/plain": [
       "'t'"
      ]
     },
     "execution_count": 2,
     "metadata": {},
     "output_type": "execute_result"
    }
   ],
   "source": [
    "s[1]"
   ]
  },
  {
   "cell_type": "code",
   "execution_count": 3,
   "metadata": {},
   "outputs": [],
   "source": [
    "def what_to_calculate():\n",
    "\n",
    "\t#Ask initial question\n",
    "\tinit_question = input('What would you like to calculate, hourly wage or yearly salary? ')\n",
    "\n",
    "\t#Start loop to confirm answer\n",
    "\twhile True:\n",
    "\t\tif init_question[0].lower() == 'h':\n",
    "\t\t\treturn 'hr'\n",
    "\t\t\tbreak\n",
    "\t\telif init_question[0].lower() == 'y':\n",
    "\t\t\treturn 'yr'\n",
    "\t\t\tbreak\n",
    "\t\telse:\n",
    "\t\t\tinit_question = input('Please enter either h for hourly wage or y for yearly salary, I cannot do anything else as of now: ')"
   ]
  },
  {
   "cell_type": "code",
   "execution_count": 5,
   "metadata": {},
   "outputs": [
    {
     "name": "stdout",
     "output_type": "stream",
     "text": [
      "What would you like to calculate, hourly wage or yearly salary? hour\n"
     ]
    },
    {
     "data": {
      "text/plain": [
       "'hr'"
      ]
     },
     "execution_count": 5,
     "metadata": {},
     "output_type": "execute_result"
    }
   ],
   "source": [
    "what_to_calculate()"
   ]
  },
  {
   "cell_type": "code",
   "execution_count": 6,
   "metadata": {},
   "outputs": [
    {
     "name": "stdout",
     "output_type": "stream",
     "text": [
      "What would you like to calculate, hourly wage or yearly salary? yearly\n"
     ]
    },
    {
     "data": {
      "text/plain": [
       "'yr'"
      ]
     },
     "execution_count": 6,
     "metadata": {},
     "output_type": "execute_result"
    }
   ],
   "source": [
    "what_to_calculate()"
   ]
  },
  {
   "cell_type": "code",
   "execution_count": 7,
   "metadata": {},
   "outputs": [
    {
     "name": "stdout",
     "output_type": "stream",
     "text": [
      "What would you like to calculate, hourly wage or yearly salary? what\n",
      "Please enter either h for hourly wage or y for yearly salary, I cannot do anything else as of now: what do you mean\n",
      "Please enter either h for hourly wage or y for yearly salary, I cannot do anything else as of now: i can't\n",
      "Please enter either h for hourly wage or y for yearly salary, I cannot do anything else as of now: help\n"
     ]
    },
    {
     "data": {
      "text/plain": [
       "'hr'"
      ]
     },
     "execution_count": 7,
     "metadata": {},
     "output_type": "execute_result"
    }
   ],
   "source": [
    "what_to_calculate()"
   ]
  },
  {
   "cell_type": "code",
   "execution_count": null,
   "metadata": {},
   "outputs": [],
   "source": []
  }
 ],
 "metadata": {
  "kernelspec": {
   "display_name": "Python 3",
   "language": "python",
   "name": "python3"
  },
  "language_info": {
   "codemirror_mode": {
    "name": "ipython",
    "version": 3
   },
   "file_extension": ".py",
   "mimetype": "text/x-python",
   "name": "python",
   "nbconvert_exporter": "python",
   "pygments_lexer": "ipython3",
   "version": "3.7.4"
  }
 },
 "nbformat": 4,
 "nbformat_minor": 2
}
