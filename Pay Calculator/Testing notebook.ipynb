{
 "cells": [
  {
   "cell_type": "code",
   "execution_count": 1,
   "metadata": {},
   "outputs": [],
   "source": [
    "s = 'string'"
   ]
  },
  {
   "cell_type": "code",
   "execution_count": 2,
   "metadata": {},
   "outputs": [
    {
     "data": {
      "text/plain": [
       "'t'"
      ]
     },
     "execution_count": 2,
     "metadata": {},
     "output_type": "execute_result"
    }
   ],
   "source": [
    "s[1]"
   ]
  },
  {
   "cell_type": "code",
   "execution_count": 10,
   "metadata": {},
   "outputs": [],
   "source": [
    "def what_to_calculate():\n",
    "\n",
    "\t#Ask initial question\n",
    "\tinit_question = input('What would you like to calculate, hourly wage or yearly salary? ')\n",
    "\n",
    "\t#Start loop to confirm answer\n",
    "\twhile True:\n",
    "\t\tif init_question[0].lower() == 'h':\n",
    "\t\t\treturn 'hr'\n",
    "\t\t\tbreak\n",
    "\t\telif init_question[0].lower() == 'y':\n",
    "\t\t\treturn 'yr'\n",
    "\t\t\tbreak\n",
    "\t\telse:\n",
    "\t\t\tinit_question = input('Please enter either h for hourly wage or y for yearly salary, I cannot do anything else as of now: ')"
   ]
  },
  {
   "cell_type": "code",
   "execution_count": 11,
   "metadata": {},
   "outputs": [
    {
     "name": "stdout",
     "output_type": "stream",
     "text": [
      "What would you like to calculate, hourly wage or yearly salary? h\n"
     ]
    },
    {
     "data": {
      "text/plain": [
       "'hr'"
      ]
     },
     "execution_count": 11,
     "metadata": {},
     "output_type": "execute_result"
    }
   ],
   "source": [
    "what_to_calculate()"
   ]
  },
  {
   "cell_type": "code",
   "execution_count": 6,
   "metadata": {},
   "outputs": [
    {
     "name": "stdout",
     "output_type": "stream",
     "text": [
      "What would you like to calculate, hourly wage or yearly salary? yearly\n"
     ]
    },
    {
     "data": {
      "text/plain": [
       "'yr'"
      ]
     },
     "execution_count": 6,
     "metadata": {},
     "output_type": "execute_result"
    }
   ],
   "source": [
    "what_to_calculate()"
   ]
  },
  {
   "cell_type": "code",
   "execution_count": 7,
   "metadata": {},
   "outputs": [
    {
     "name": "stdout",
     "output_type": "stream",
     "text": [
      "What would you like to calculate, hourly wage or yearly salary? what\n",
      "Please enter either h for hourly wage or y for yearly salary, I cannot do anything else as of now: what do you mean\n",
      "Please enter either h for hourly wage or y for yearly salary, I cannot do anything else as of now: i can't\n",
      "Please enter either h for hourly wage or y for yearly salary, I cannot do anything else as of now: help\n"
     ]
    },
    {
     "data": {
      "text/plain": [
       "'hr'"
      ]
     },
     "execution_count": 7,
     "metadata": {},
     "output_type": "execute_result"
    }
   ],
   "source": [
    "what_to_calculate()"
   ]
  },
  {
   "cell_type": "code",
   "execution_count": 4,
   "metadata": {},
   "outputs": [],
   "source": [
    "a_number = 10.0"
   ]
  },
  {
   "cell_type": "code",
   "execution_count": 6,
   "metadata": {},
   "outputs": [
    {
     "data": {
      "text/plain": [
       "False"
      ]
     },
     "execution_count": 6,
     "metadata": {},
     "output_type": "execute_result"
    }
   ],
   "source": [
    "a_number == int"
   ]
  },
  {
   "cell_type": "code",
   "execution_count": 7,
   "metadata": {},
   "outputs": [
    {
     "data": {
      "text/plain": [
       "True"
      ]
     },
     "execution_count": 7,
     "metadata": {},
     "output_type": "execute_result"
    }
   ],
   "source": [
    "a_number * 0 == 0"
   ]
  },
  {
   "cell_type": "code",
   "execution_count": 8,
   "metadata": {},
   "outputs": [],
   "source": [
    "class Wage:\n",
    "\n",
    "\tdef __init__(self, h_amount=0,y_amount=0, vac_pay=0, bonus=0):\n",
    "\n",
    "\t\t#h_amount is hourly wage entered\n",
    "\t\tself.h_amount = h_amount\n",
    "\n",
    "\t\t#y_amount is yearly wage entered\n",
    "\t\tself.y_amount = y_amount\n",
    "\t\t\n",
    "\t\t#vac_pay is vacation rate (entered as a percentage)\n",
    "\t\tself.vac_pay = vac_pay\n",
    "\n",
    "\t\t#bonus is amount of bonus paid in lump sum\n",
    "\t\tself.bonus = bonus\n",
    "\n",
    "## Create function to ask user to enter information\n",
    "\n",
    "def input_info(choice):\n",
    "\n",
    "\t#Ask user for info and start loop\n",
    "\tif choice == 'yr':\n",
    "\t\twhile True:\t\n",
    "\t\t\tWage.y_amount = int(input('Please enter your yearly wage: '))\n",
    "\t\t\tif Wage.y_amount * 0 == 0:\n",
    "\t\t\t\tbreak\n",
    "\t\t\telse:\n",
    "\t\t\t\tWage.y_amount = int(input('Please enter a number: '))"
   ]
  },
  {
   "cell_type": "code",
   "execution_count": 14,
   "metadata": {},
   "outputs": [
    {
     "name": "stdout",
     "output_type": "stream",
     "text": [
      "What would you like to calculate, hourly wage or yearly salary? yr\n",
      "Please enter your yearly wage: what\n"
     ]
    },
    {
     "ename": "ValueError",
     "evalue": "invalid literal for int() with base 10: 'what'",
     "output_type": "error",
     "traceback": [
      "\u001b[1;31m---------------------------------------------------------------------------\u001b[0m",
      "\u001b[1;31mValueError\u001b[0m                                Traceback (most recent call last)",
      "\u001b[1;32m<ipython-input-14-ba06786cedc1>\u001b[0m in \u001b[0;36m<module>\u001b[1;34m\u001b[0m\n\u001b[1;32m----> 1\u001b[1;33m \u001b[0minput_info\u001b[0m\u001b[1;33m(\u001b[0m\u001b[0mwhat_to_calculate\u001b[0m\u001b[1;33m(\u001b[0m\u001b[1;33m)\u001b[0m\u001b[1;33m)\u001b[0m\u001b[1;33m\u001b[0m\u001b[1;33m\u001b[0m\u001b[0m\n\u001b[0m",
      "\u001b[1;32m<ipython-input-8-e1890d269ff6>\u001b[0m in \u001b[0;36minput_info\u001b[1;34m(choice)\u001b[0m\n\u001b[0;32m     22\u001b[0m         \u001b[1;32mif\u001b[0m \u001b[0mchoice\u001b[0m \u001b[1;33m==\u001b[0m \u001b[1;34m'yr'\u001b[0m\u001b[1;33m:\u001b[0m\u001b[1;33m\u001b[0m\u001b[1;33m\u001b[0m\u001b[0m\n\u001b[0;32m     23\u001b[0m                 \u001b[1;32mwhile\u001b[0m \u001b[1;32mTrue\u001b[0m\u001b[1;33m:\u001b[0m\u001b[1;33m\u001b[0m\u001b[1;33m\u001b[0m\u001b[0m\n\u001b[1;32m---> 24\u001b[1;33m                         \u001b[0mWage\u001b[0m\u001b[1;33m.\u001b[0m\u001b[0my_amount\u001b[0m \u001b[1;33m=\u001b[0m \u001b[0mint\u001b[0m\u001b[1;33m(\u001b[0m\u001b[0minput\u001b[0m\u001b[1;33m(\u001b[0m\u001b[1;34m'Please enter your yearly wage: '\u001b[0m\u001b[1;33m)\u001b[0m\u001b[1;33m)\u001b[0m\u001b[1;33m\u001b[0m\u001b[1;33m\u001b[0m\u001b[0m\n\u001b[0m\u001b[0;32m     25\u001b[0m                         \u001b[1;32mif\u001b[0m \u001b[0mWage\u001b[0m\u001b[1;33m.\u001b[0m\u001b[0my_amount\u001b[0m \u001b[1;33m*\u001b[0m \u001b[1;36m0\u001b[0m \u001b[1;33m==\u001b[0m \u001b[1;36m0\u001b[0m\u001b[1;33m:\u001b[0m\u001b[1;33m\u001b[0m\u001b[1;33m\u001b[0m\u001b[0m\n\u001b[0;32m     26\u001b[0m                                 \u001b[1;32mbreak\u001b[0m\u001b[1;33m\u001b[0m\u001b[1;33m\u001b[0m\u001b[0m\n",
      "\u001b[1;31mValueError\u001b[0m: invalid literal for int() with base 10: 'what'"
     ]
    }
   ],
   "source": [
    "input_info(what_to_calculate())"
   ]
  },
  {
   "cell_type": "code",
   "execution_count": 13,
   "metadata": {},
   "outputs": [
    {
     "data": {
      "text/plain": [
       "1000"
      ]
     },
     "execution_count": 13,
     "metadata": {},
     "output_type": "execute_result"
    }
   ],
   "source": [
    "Wage.y_amount"
   ]
  },
  {
   "cell_type": "code",
   "execution_count": 15,
   "metadata": {},
   "outputs": [],
   "source": [
    "class Wage:\n",
    "\n",
    "\tdef __init__(self, h_amount=0,y_amount=0, vac_pay=0, bonus=0):\n",
    "\n",
    "\t\t#h_amount is hourly wage entered\n",
    "\t\tself.h_amount = h_amount\n",
    "\n",
    "\t\t#y_amount is yearly wage entered\n",
    "\t\tself.y_amount = y_amount\n",
    "\t\t\n",
    "\t\t#vac_pay is vacation rate (entered as a percentage)\n",
    "\t\tself.vac_pay = vac_pay\n",
    "\n",
    "\t\t#bonus is amount of bonus paid in lump sum\n",
    "\t\tself.bonus = bonus\n",
    "\n",
    "## Create function to ask user to enter information\n",
    "\n",
    "def input_info(choice):\n",
    "\n",
    "\t#Ask user for info and start loop\n",
    "\tif choice == 'yr':\n",
    "\t\twhile True:\t\n",
    "\t\t\tWage.y_amount = int(input('Please enter your hourly wage: '))\n",
    "\t\t\ttry:\n",
    "\t\t\t\tWage.y_amount * 0 == 0\n",
    "\t\t\texcept:\n",
    "\t\t\t\tprint('Please enter numbers, I cannot understand letters!')\n",
    "\t\t\t\tcontinue\n",
    "\t\t\telse:\n",
    "\t\t\t\tprint('Thanks! Lets move on')\n",
    "\t\t\t\tbreak"
   ]
  },
  {
   "cell_type": "code",
   "execution_count": 19,
   "metadata": {},
   "outputs": [
    {
     "name": "stdout",
     "output_type": "stream",
     "text": [
      "What would you like to calculate, hourly wage or yearly salary? year\n",
      "Please enter your hourly wage: whart\n"
     ]
    },
    {
     "ename": "ValueError",
     "evalue": "invalid literal for int() with base 10: 'whart'",
     "output_type": "error",
     "traceback": [
      "\u001b[1;31m---------------------------------------------------------------------------\u001b[0m",
      "\u001b[1;31mValueError\u001b[0m                                Traceback (most recent call last)",
      "\u001b[1;32m<ipython-input-19-ba06786cedc1>\u001b[0m in \u001b[0;36m<module>\u001b[1;34m\u001b[0m\n\u001b[1;32m----> 1\u001b[1;33m \u001b[0minput_info\u001b[0m\u001b[1;33m(\u001b[0m\u001b[0mwhat_to_calculate\u001b[0m\u001b[1;33m(\u001b[0m\u001b[1;33m)\u001b[0m\u001b[1;33m)\u001b[0m\u001b[1;33m\u001b[0m\u001b[1;33m\u001b[0m\u001b[0m\n\u001b[0m",
      "\u001b[1;32m<ipython-input-15-ba96b2965add>\u001b[0m in \u001b[0;36minput_info\u001b[1;34m(choice)\u001b[0m\n\u001b[0;32m     22\u001b[0m         \u001b[1;32mif\u001b[0m \u001b[0mchoice\u001b[0m \u001b[1;33m==\u001b[0m \u001b[1;34m'yr'\u001b[0m\u001b[1;33m:\u001b[0m\u001b[1;33m\u001b[0m\u001b[1;33m\u001b[0m\u001b[0m\n\u001b[0;32m     23\u001b[0m                 \u001b[1;32mwhile\u001b[0m \u001b[1;32mTrue\u001b[0m\u001b[1;33m:\u001b[0m\u001b[1;33m\u001b[0m\u001b[1;33m\u001b[0m\u001b[0m\n\u001b[1;32m---> 24\u001b[1;33m                         \u001b[0mWage\u001b[0m\u001b[1;33m.\u001b[0m\u001b[0my_amount\u001b[0m \u001b[1;33m=\u001b[0m \u001b[0mint\u001b[0m\u001b[1;33m(\u001b[0m\u001b[0minput\u001b[0m\u001b[1;33m(\u001b[0m\u001b[1;34m'Please enter your hourly wage: '\u001b[0m\u001b[1;33m)\u001b[0m\u001b[1;33m)\u001b[0m\u001b[1;33m\u001b[0m\u001b[1;33m\u001b[0m\u001b[0m\n\u001b[0m\u001b[0;32m     25\u001b[0m                         \u001b[1;32mtry\u001b[0m\u001b[1;33m:\u001b[0m\u001b[1;33m\u001b[0m\u001b[1;33m\u001b[0m\u001b[0m\n\u001b[0;32m     26\u001b[0m                                 \u001b[0mWage\u001b[0m\u001b[1;33m.\u001b[0m\u001b[0my_amount\u001b[0m \u001b[1;33m*\u001b[0m \u001b[1;36m0\u001b[0m \u001b[1;33m==\u001b[0m \u001b[1;36m0\u001b[0m\u001b[1;33m\u001b[0m\u001b[1;33m\u001b[0m\u001b[0m\n",
      "\u001b[1;31mValueError\u001b[0m: invalid literal for int() with base 10: 'whart'"
     ]
    }
   ],
   "source": [
    "input_info(what_to_calculate())"
   ]
  },
  {
   "cell_type": "code",
   "execution_count": 18,
   "metadata": {},
   "outputs": [
    {
     "data": {
      "text/plain": [
       "10"
      ]
     },
     "execution_count": 18,
     "metadata": {},
     "output_type": "execute_result"
    }
   ],
   "source": [
    "Wage.y_amount"
   ]
  },
  {
   "cell_type": "code",
   "execution_count": 23,
   "metadata": {},
   "outputs": [],
   "source": [
    "def input_info(choice):\n",
    "\n",
    "\t#Ask user for info and start loop\n",
    "\tif choice == 'yr':\n",
    "\t\twhile True:\t\n",
    "\t\t\tWage.y_amount = input('Please enter your hourly wage: ')\n",
    "\t\t\ttry:\n",
    "\t\t\t\tint(Wage.y_amount) * 0 == 0\n",
    "\t\t\texcept:\n",
    "\t\t\t\tprint('Please enter numbers, I cannot understand letters!')\n",
    "\t\t\t\tcontinue\n",
    "\t\t\telse:\n",
    "\t\t\t\tWage.y_amount = int(Wage.y_amount)\n",
    "\t\t\t\tprint('Thanks! Lets move on')\n",
    "\t\t\t\tbreak"
   ]
  },
  {
   "cell_type": "code",
   "execution_count": 24,
   "metadata": {},
   "outputs": [
    {
     "name": "stdout",
     "output_type": "stream",
     "text": [
      "What would you like to calculate, hourly wage or yearly salary? yr\n",
      "Please enter your hourly wage: wha\n",
      "Please enter numbers, I cannot understand letters!\n",
      "Please enter your hourly wage: tslrj\n",
      "Please enter numbers, I cannot understand letters!\n",
      "Please enter your hourly wage: fklsjdf\n",
      "Please enter numbers, I cannot understand letters!\n",
      "Please enter your hourly wage: two\n",
      "Please enter numbers, I cannot understand letters!\n",
      "Please enter your hourly wage: 2\n",
      "Thanks! Lets move on\n"
     ]
    }
   ],
   "source": [
    "input_info(what_to_calculate())"
   ]
  },
  {
   "cell_type": "code",
   "execution_count": 26,
   "metadata": {},
   "outputs": [
    {
     "data": {
      "text/plain": [
       "0"
      ]
     },
     "execution_count": 26,
     "metadata": {},
     "output_type": "execute_result"
    }
   ],
   "source": [
    "Wage.y_amount * 0"
   ]
  },
  {
   "cell_type": "code",
   "execution_count": 78,
   "metadata": {},
   "outputs": [],
   "source": [
    "def what_to_calculate():\n",
    "\n",
    "\t#Ask initial question\n",
    "\tinit_question = input('What would you like to calculate, hourly wage or yearly salary? ')\n",
    "\n",
    "\t#Start loop to confirm answer\n",
    "\twhile True:\n",
    "\t\tif init_question[0].lower() == 'h':\n",
    "\t\t\treturn 'hr'\n",
    "\t\t\tbreak\n",
    "\t\telif init_question[0].lower() == 'y':\n",
    "\t\t\treturn 'yr'\n",
    "\t\t\tbreak\n",
    "\t\telse:\n",
    "\t\t\tinit_question = input('Please enter either h for hourly wage or y for yearly salary, I cannot do anything else as of now: ')\n",
    "\n",
    "## Create Object to store entered information\n",
    "\n",
    "class Wage:\n",
    "\n",
    "\tdef __init__(self,h_amount=0,y_amount=0, vac_pay=0, bonus=0):\n",
    "\n",
    "\t\t#h_amount is hourly wage entered\n",
    "\t\tself.h_amount = h_amount\n",
    "\n",
    "\t\t#y_amount is yearly wage entered\n",
    "\t\tself.y_amount = y_amount\n",
    "\t\t\n",
    "\t\t#vac_pay is vacation rate (entered as a percentage)\n",
    "\t\tself.vac_pay = vac_pay\n",
    "\n",
    "\t\t#bonus is amount of bonus paid in lump sum\n",
    "\t\tself.bonus = bonus\n",
    "\n",
    "## Create function to ask user to enter information\n",
    "\n",
    "def input_info(choice):\n",
    "\n",
    "\t#Choice of question depends on variable Choice which should equal either a string of hr or yr\n",
    "\n",
    "\t#Asks for HOURLY wage if user wants to calculate Yearly\n",
    "\tif choice == 'yr':\n",
    "\t\twhile True:\t\n",
    "\t\t\tWage.h_amount = input('Please enter your hourly wage: ')\n",
    "\t\t\ttry:\n",
    "\t\t\t\tint(Wage.h_amount) * 0 == 0\n",
    "\t\t\texcept:\n",
    "\t\t\t\tprint('Please enter numbers, I cannot understand letters!')\n",
    "\t\t\t\tcontinue\n",
    "\t\t\telse:\n",
    "\t\t\t\tWage.h_amount = int(Wage.h_amount)\n",
    "\t\t\t\tprint('Thanks! Lets move on')\n",
    "\t\t\t\tbreak\n",
    "\n",
    "\t#Asks for YEARLY wage if user wants to calculate Hourly\n",
    "\tif choice == 'hr':\n",
    "\t\twhile True:\t\n",
    "\t\t\tWage.y_amount = input('Please enter your yearly wage: ')\n",
    "\t\t\ttry:\n",
    "\t\t\t\tint(Wage.y_amount) * 0 == 0\n",
    "\t\t\texcept:\n",
    "\t\t\t\tprint('Please enter numbers, I cannot understand letters!')\n",
    "\t\t\t\tcontinue\n",
    "\t\t\telse:\n",
    "\t\t\t\tWage.y_amount = int(Wage.y_amount)\n",
    "\t\t\t\tprint('Thanks! Lets move on')\n",
    "\t\t\t\tbreak\n",
    "\n",
    "## Create final function to calculate\n",
    "\n",
    "def Pay_Calculator():\n",
    "\n",
    "\t#Welcome user\n",
    "\tprint('Welcome to the Pay Calculator created by Chanda!')\n",
    "\tinput('Press Enter to start!')\n",
    "\n",
    "\t#Asks for info\n",
    "\tinput_info(what_to_calculate())\n"
   ]
  },
  {
   "cell_type": "code",
   "execution_count": 79,
   "metadata": {},
   "outputs": [
    {
     "name": "stdout",
     "output_type": "stream",
     "text": [
      "Welcome to the Pay Calculator created by Chanda!\n",
      "Press Enter to start!\n",
      "What would you like to calculate, hourly wage or yearly salary? hor\n",
      "Please enter your yearly wage: 62000\n",
      "Thanks! Lets move on\n"
     ]
    }
   ],
   "source": [
    "Pay_Calculator()"
   ]
  },
  {
   "cell_type": "code",
   "execution_count": 43,
   "metadata": {},
   "outputs": [
    {
     "data": {
      "text/plain": [
       "False"
      ]
     },
     "execution_count": 43,
     "metadata": {},
     "output_type": "execute_result"
    }
   ],
   "source": [
    "Wage.y_amount == False"
   ]
  },
  {
   "cell_type": "code",
   "execution_count": 42,
   "metadata": {},
   "outputs": [
    {
     "data": {
      "text/plain": [
       "True"
      ]
     },
     "execution_count": 42,
     "metadata": {},
     "output_type": "execute_result"
    }
   ],
   "source": [
    "Wage.h_amount == False"
   ]
  },
  {
   "cell_type": "code",
   "execution_count": 75,
   "metadata": {},
   "outputs": [],
   "source": [
    "\n",
    "def Pay_Calculator():\n",
    "\n",
    "\t#Welcome user\n",
    "\tprint('Welcome to the Pay Calculator created by Chanda!')\n",
    "\tinput('Press Enter to start!')\n",
    "\n",
    "\t#Asks for info\n",
    "\tinput_info(what_to_calculate())\n",
    "\n",
    "\tif Wage.h_amount == False:\n",
    "\t\tWage.h_amount = round(Wage.y_amount / 52 / 40, 2) #NEED TO PUT IN HOURLY ASK FOR INFO AS WELL\n",
    "\n",
    "\tif Wage.y_amount == False:\n",
    "\t\tWage.y_amount = round(Wage.h_amount * 40 * 52, 2)\n",
    "\n",
    "\tprint(f'Your hourly wage is {Wage.h_amount} \\nYour yearly wage is {Wage.y_amount}')"
   ]
  },
  {
   "cell_type": "code",
   "execution_count": 77,
   "metadata": {},
   "outputs": [
    {
     "name": "stdout",
     "output_type": "stream",
     "text": [
      "Welcome to the Pay Calculator created by Chanda!\n",
      "Press Enter to start!\n",
      "What would you like to calculate, hourly wage or yearly salary? hourly\n",
      "Please enter your yearly wage: 62000\n",
      "Thanks! Lets move on\n",
      "Your hourly wage is 28.85 \n",
      "Your yearly wage is 62000\n"
     ]
    }
   ],
   "source": [
    "Pay_Calculator()"
   ]
  },
  {
   "cell_type": "code",
   "execution_count": 73,
   "metadata": {},
   "outputs": [],
   "source": [
    "Wage.h_amount = round(Wage.h_amount,2)"
   ]
  },
  {
   "cell_type": "code",
   "execution_count": 74,
   "metadata": {},
   "outputs": [
    {
     "data": {
      "text/plain": [
       "28.85"
      ]
     },
     "execution_count": 74,
     "metadata": {},
     "output_type": "execute_result"
    }
   ],
   "source": [
    "Wage.h_amount"
   ]
  },
  {
   "cell_type": "code",
   "execution_count": 55,
   "metadata": {},
   "outputs": [],
   "source": [
    "whatthef = round(60000/52/40,2)"
   ]
  },
  {
   "cell_type": "code",
   "execution_count": 56,
   "metadata": {},
   "outputs": [
    {
     "data": {
      "text/plain": [
       "28.85"
      ]
     },
     "execution_count": 56,
     "metadata": {},
     "output_type": "execute_result"
    }
   ],
   "source": [
    "whatthef"
   ]
  },
  {
   "cell_type": "code",
   "execution_count": 66,
   "metadata": {},
   "outputs": [],
   "source": [
    "a = 60000"
   ]
  },
  {
   "cell_type": "code",
   "execution_count": 67,
   "metadata": {},
   "outputs": [],
   "source": [
    "b = round(a/52/40,2)"
   ]
  },
  {
   "cell_type": "code",
   "execution_count": 68,
   "metadata": {},
   "outputs": [
    {
     "data": {
      "text/plain": [
       "28.85"
      ]
     },
     "execution_count": 68,
     "metadata": {},
     "output_type": "execute_result"
    }
   ],
   "source": [
    "b"
   ]
  },
  {
   "cell_type": "code",
   "execution_count": 69,
   "metadata": {},
   "outputs": [
    {
     "name": "stdout",
     "output_type": "stream",
     "text": [
      "28.85\n"
     ]
    }
   ],
   "source": [
    "print(b)"
   ]
  },
  {
   "cell_type": "code",
   "execution_count": 70,
   "metadata": {},
   "outputs": [
    {
     "name": "stdout",
     "output_type": "stream",
     "text": [
      "what the 28.85\n"
     ]
    }
   ],
   "source": [
    "print(f'what the {b}')"
   ]
  },
  {
   "cell_type": "code",
   "execution_count": 80,
   "metadata": {},
   "outputs": [],
   "source": [
    "## This program will calculate a user's gross Salary or Hourly wage. \n",
    "\n",
    "## Start by asking user for option between calculating hourly wage or yearly pay\n",
    "\n",
    "def what_to_calculate():\n",
    "\n",
    "\t#Ask initial question\n",
    "\tinit_question = input('What would you like to calculate, hourly wage or yearly salary? ')\n",
    "\n",
    "\t#Start loop to confirm answer\n",
    "\twhile True:\n",
    "\t\tif init_question[0].lower() == 'h':\n",
    "\t\t\treturn 'hr'\n",
    "\t\t\tbreak\n",
    "\t\telif init_question[0].lower() == 'y':\n",
    "\t\t\treturn 'yr'\n",
    "\t\t\tbreak\n",
    "\t\telse:\n",
    "\t\t\tinit_question = input('Please enter either h for hourly wage or y for yearly salary, I cannot do anything else as of now: ')\n",
    "\n",
    "## Create Object to store entered information\n",
    "\n",
    "class Wage:\n",
    "\n",
    "\tdef __init__(self,h_amount=0,y_amount=0,vac_pay=0, bonus=0):\n",
    "\n",
    "\t\t#h_amount is hourly wage entered\n",
    "\t\tself.h_amount = h_amount\n",
    "\n",
    "\t\t#y_amount is yearly wage entered\n",
    "\t\tself.y_amount = y_amount\n",
    "\t\t\n",
    "\t\t#vac_pay is vacation rate (entered as a percentage)\n",
    "\t\tself.vac_pay = vac_pay\n",
    "\n",
    "\t\t#bonus is amount of bonus paid in lump sum\n",
    "\t\tself.bonus = bonus\n",
    "\n",
    "## Create function to ask user to enter information\n",
    "\n",
    "def input_info(choice):\n",
    "\n",
    "\t#Choice of question depends on variable Choice which should equal either a string of hr or yr\n",
    "\n",
    "\t#Asks for HOURLY wage if user wants to calculate Yearly\n",
    "\tif choice == 'yr':\n",
    "\t\twhile True:\t\n",
    "\t\t\tWage.h_amount = input('Please enter your hourly wage: ')\n",
    "\t\t\ttry:\n",
    "\t\t\t\tint(Wage.h_amount) * 0 == 0\n",
    "\t\t\texcept:\n",
    "\t\t\t\tprint('Please enter numbers, I cannot understand letters!')\n",
    "\t\t\t\tcontinue\n",
    "\t\t\telse:\n",
    "\t\t\t\tWage.h_amount = int(Wage.h_amount)\n",
    "\t\t\t\tprint('Thanks! Lets move on')\n",
    "\t\t\t\tbreak\n",
    "\n",
    "\t#Asks for YEARLY wage if user wants to calculate Hourly\n",
    "\tif choice == 'hr':\n",
    "\t\twhile True:\t\n",
    "\t\t\tWage.y_amount = input('Please enter your yearly wage: ')\n",
    "\t\t\ttry:\n",
    "\t\t\t\tint(Wage.y_amount) * 0 == 0\n",
    "\t\t\texcept:\n",
    "\t\t\t\tprint('Please enter numbers, I cannot understand letters!')\n",
    "\t\t\t\tcontinue\n",
    "\t\t\telse:\n",
    "\t\t\t\tWage.y_amount = int(Wage.y_amount)\n",
    "\t\t\t\tprint('Thanks! Lets move on')\n",
    "\t\t\t\tbreak\n",
    "\n",
    "## Create final function to calculate\n",
    "\n",
    "def Pay_Calculator():\n",
    "\n",
    "\t#Welcome user\n",
    "\tprint('Welcome to the Pay Calculator created by Chanda!')\n",
    "\tinput('Press Enter to start!')\n",
    "\n",
    "\t#Asks for info\n",
    "\tinput_info(what_to_calculate())\n",
    "\n",
    "\tif Wage.h_amount == False:\n",
    "\t\tWage.h_amount = round(Wage.y_amount / 52 / 40, 2) #NEED TO PUT IN HOURLY ASK FOR INFO AS WELL\n",
    "\n",
    "\tif Wage.y_amount == False:\n",
    "\t\tWage.y_amount = round(Wage.h_amount * 40 * 52, 2)\n",
    "\n",
    "\tprint(f'Your hourly wage is {Wage.h_amount} \\nYour yearly wage is {Wage.y_amount}')\n",
    "\n",
    "## Run the final function\n",
    "\n",
    "## Add the __main__ commands to confirm the running of this if this is main script that is run"
   ]
  },
  {
   "cell_type": "code",
   "execution_count": 82,
   "metadata": {},
   "outputs": [
    {
     "name": "stdout",
     "output_type": "stream",
     "text": [
      "Welcome to the Pay Calculator created by Chanda!\n",
      "Press Enter to start!\n",
      "What would you like to calculate, hourly wage or yearly salary? hour\n",
      "Please enter your yearly wage: 62000\n",
      "Thanks! Lets move on\n"
     ]
    },
    {
     "ename": "AttributeError",
     "evalue": "type object 'Wage' has no attribute 'h_amount'",
     "output_type": "error",
     "traceback": [
      "\u001b[1;31m---------------------------------------------------------------------------\u001b[0m",
      "\u001b[1;31mAttributeError\u001b[0m                            Traceback (most recent call last)",
      "\u001b[1;32m<ipython-input-82-65a7adc1d3c8>\u001b[0m in \u001b[0;36m<module>\u001b[1;34m\u001b[0m\n\u001b[1;32m----> 1\u001b[1;33m \u001b[0mPay_Calculator\u001b[0m\u001b[1;33m(\u001b[0m\u001b[1;33m)\u001b[0m\u001b[1;33m\u001b[0m\u001b[1;33m\u001b[0m\u001b[0m\n\u001b[0m",
      "\u001b[1;32m<ipython-input-80-32e869f0b841>\u001b[0m in \u001b[0;36mPay_Calculator\u001b[1;34m()\u001b[0m\n\u001b[0;32m     82\u001b[0m         \u001b[0minput_info\u001b[0m\u001b[1;33m(\u001b[0m\u001b[0mwhat_to_calculate\u001b[0m\u001b[1;33m(\u001b[0m\u001b[1;33m)\u001b[0m\u001b[1;33m)\u001b[0m\u001b[1;33m\u001b[0m\u001b[1;33m\u001b[0m\u001b[0m\n\u001b[0;32m     83\u001b[0m \u001b[1;33m\u001b[0m\u001b[0m\n\u001b[1;32m---> 84\u001b[1;33m         \u001b[1;32mif\u001b[0m \u001b[0mWage\u001b[0m\u001b[1;33m.\u001b[0m\u001b[0mh_amount\u001b[0m \u001b[1;33m==\u001b[0m \u001b[1;32mFalse\u001b[0m\u001b[1;33m:\u001b[0m\u001b[1;33m\u001b[0m\u001b[1;33m\u001b[0m\u001b[0m\n\u001b[0m\u001b[0;32m     85\u001b[0m                 \u001b[0mWage\u001b[0m\u001b[1;33m.\u001b[0m\u001b[0mh_amount\u001b[0m \u001b[1;33m=\u001b[0m \u001b[0mround\u001b[0m\u001b[1;33m(\u001b[0m\u001b[0mWage\u001b[0m\u001b[1;33m.\u001b[0m\u001b[0my_amount\u001b[0m \u001b[1;33m/\u001b[0m \u001b[1;36m52\u001b[0m \u001b[1;33m/\u001b[0m \u001b[1;36m40\u001b[0m\u001b[1;33m,\u001b[0m \u001b[1;36m2\u001b[0m\u001b[1;33m)\u001b[0m \u001b[1;31m#NEED TO PUT IN HOURLY ASK FOR INFO AS WELL\u001b[0m\u001b[1;33m\u001b[0m\u001b[1;33m\u001b[0m\u001b[0m\n\u001b[0;32m     86\u001b[0m \u001b[1;33m\u001b[0m\u001b[0m\n",
      "\u001b[1;31mAttributeError\u001b[0m: type object 'Wage' has no attribute 'h_amount'"
     ]
    }
   ],
   "source": [
    "Pay_Calculator()"
   ]
  },
  {
   "cell_type": "code",
   "execution_count": 83,
   "metadata": {},
   "outputs": [],
   "source": [
    "## This program will calculate a user's gross Salary or Hourly wage. \n",
    "\n",
    "## Start by asking user for option between calculating hourly wage or yearly pay\n",
    "\n",
    "def what_to_calculate():\n",
    "\n",
    "\t#Ask initial question\n",
    "\tinit_question = input('What would you like to calculate, hourly wage or yearly salary? ')\n",
    "\n",
    "\t#Start loop to confirm answer\n",
    "\twhile True:\n",
    "\t\tif init_question[0].lower() == 'h':\n",
    "\t\t\treturn 'hr'\n",
    "\t\t\tbreak\n",
    "\t\telif init_question[0].lower() == 'y':\n",
    "\t\t\treturn 'yr'\n",
    "\t\t\tbreak\n",
    "\t\telse:\n",
    "\t\t\tinit_question = input('Please enter either h for hourly wage or y for yearly salary, I cannot do anything else as of now: ')\n",
    "\n",
    "## Create Object to store entered information\n",
    "\n",
    "class Wage:\n",
    "\n",
    "\tdef __init__(self,h_amount=0,y_amount=0,vac_pay=0, bonus=0):\n",
    "\n",
    "\t\t#h_amount is hourly wage entered\n",
    "\t\tself.h_amount = h_amount\n",
    "\n",
    "\t\t#y_amount is yearly wage entered\n",
    "\t\tself.y_amount = y_amount\n",
    "\t\t\n",
    "\t\t#vac_pay is vacation rate (entered as a percentage)\n",
    "\t\tself.vac_pay = vac_pay\n",
    "\n",
    "\t\t#bonus is amount of bonus paid in lump sum\n",
    "\t\tself.bonus = bonus\n",
    "\n",
    "## Create function to ask user to enter information\n",
    "\n",
    "def input_info(choice):\n",
    "\n",
    "\t#Choice of question depends on variable Choice which should equal either a string of hr or yr\n",
    "\n",
    "\t#Asks for HOURLY wage if user wants to calculate Yearly\n",
    "\tif choice == 'yr':\n",
    "\t\twhile True:\t\n",
    "\t\t\tuser.h_amount = input('Please enter your hourly wage: ')\n",
    "\t\t\ttry:\n",
    "\t\t\t\tint(user.h_amount) * 0 == 0\n",
    "\t\t\texcept:\n",
    "\t\t\t\tprint('Please enter numbers, I cannot understand letters!')\n",
    "\t\t\t\tcontinue\n",
    "\t\t\telse:\n",
    "\t\t\t\tuser.h_amount = int(user.h_amount)\n",
    "\t\t\t\tprint('Thanks! Lets move on')\n",
    "\t\t\t\tbreak\n",
    "\n",
    "\t#Asks for YEARLY wage if user wants to calculate Hourly\n",
    "\tif choice == 'hr':\n",
    "\t\twhile True:\t\n",
    "\t\t\tuser.y_amount = input('Please enter your yearly wage: ')\n",
    "\t\t\ttry:\n",
    "\t\t\t\tint(user.y_amount) * 0 == 0\n",
    "\t\t\texcept:\n",
    "\t\t\t\tprint('Please enter numbers, I cannot understand letters!')\n",
    "\t\t\t\tcontinue\n",
    "\t\t\telse:\n",
    "\t\t\t\tuser.y_amount = int(user.y_amount)\n",
    "\t\t\t\tprint('Thanks! Lets move on')\n",
    "\t\t\t\tbreak\n",
    "\n",
    "## Create final function to calculate\n",
    "\n",
    "def Pay_Calculator():\n",
    "\n",
    "\t#Define Variables\n",
    "\tuser = Wage()\n",
    "\t\n",
    "\t#Welcome user\n",
    "\tprint('Welcome to the Pay Calculator created by Chanda!')\n",
    "\tinput('Press Enter to start!')\n",
    "\n",
    "\t#Asks for info\n",
    "\tinput_info(what_to_calculate())\n",
    "\n",
    "\tif Wage.h_amount == 0:\n",
    "\t\tuser.h_amount = round(Wage.y_amount / 52 / 40, 2) #NEED TO PUT IN HOURLY ASK FOR INFO AS WELL\n",
    "\n",
    "\tif Wage.y_amount == 0:\n",
    "\t\tuser.y_amount = round(Wage.h_amount * 40 * 52, 2)\n",
    "\n",
    "\tprint(f'Your hourly wage is {Wage.h_amount} \\nYour yearly wage is {Wage.y_amount}')\n",
    "\n",
    "## Run the final function\n",
    "\n",
    "## Add the __main__ commands to confirm the running of this if this is main script that is run"
   ]
  },
  {
   "cell_type": "code",
   "execution_count": 84,
   "metadata": {},
   "outputs": [
    {
     "name": "stdout",
     "output_type": "stream",
     "text": [
      "Welcome to the Pay Calculator created by Chanda!\n",
      "Press Enter to start!\n",
      "What would you like to calculate, hourly wage or yearly salary? hour\n",
      "Please enter your yearly wage: 62000\n"
     ]
    },
    {
     "ename": "NameError",
     "evalue": "name 'user' is not defined",
     "output_type": "error",
     "traceback": [
      "\u001b[1;31m---------------------------------------------------------------------------\u001b[0m",
      "\u001b[1;31mNameError\u001b[0m                                 Traceback (most recent call last)",
      "\u001b[1;32m<ipython-input-84-65a7adc1d3c8>\u001b[0m in \u001b[0;36m<module>\u001b[1;34m\u001b[0m\n\u001b[1;32m----> 1\u001b[1;33m \u001b[0mPay_Calculator\u001b[0m\u001b[1;33m(\u001b[0m\u001b[1;33m)\u001b[0m\u001b[1;33m\u001b[0m\u001b[1;33m\u001b[0m\u001b[0m\n\u001b[0m",
      "\u001b[1;32m<ipython-input-83-9db3e3c7e1b6>\u001b[0m in \u001b[0;36mPay_Calculator\u001b[1;34m()\u001b[0m\n\u001b[0;32m     83\u001b[0m \u001b[1;33m\u001b[0m\u001b[0m\n\u001b[0;32m     84\u001b[0m         \u001b[1;31m#Asks for info\u001b[0m\u001b[1;33m\u001b[0m\u001b[1;33m\u001b[0m\u001b[1;33m\u001b[0m\u001b[0m\n\u001b[1;32m---> 85\u001b[1;33m         \u001b[0minput_info\u001b[0m\u001b[1;33m(\u001b[0m\u001b[0mwhat_to_calculate\u001b[0m\u001b[1;33m(\u001b[0m\u001b[1;33m)\u001b[0m\u001b[1;33m)\u001b[0m\u001b[1;33m\u001b[0m\u001b[1;33m\u001b[0m\u001b[0m\n\u001b[0m\u001b[0;32m     86\u001b[0m \u001b[1;33m\u001b[0m\u001b[0m\n\u001b[0;32m     87\u001b[0m         \u001b[1;32mif\u001b[0m \u001b[0mWage\u001b[0m\u001b[1;33m.\u001b[0m\u001b[0mh_amount\u001b[0m \u001b[1;33m==\u001b[0m \u001b[1;36m0\u001b[0m\u001b[1;33m:\u001b[0m\u001b[1;33m\u001b[0m\u001b[1;33m\u001b[0m\u001b[0m\n",
      "\u001b[1;32m<ipython-input-83-9db3e3c7e1b6>\u001b[0m in \u001b[0;36minput_info\u001b[1;34m(choice)\u001b[0m\n\u001b[0;32m     60\u001b[0m         \u001b[1;32mif\u001b[0m \u001b[0mchoice\u001b[0m \u001b[1;33m==\u001b[0m \u001b[1;34m'hr'\u001b[0m\u001b[1;33m:\u001b[0m\u001b[1;33m\u001b[0m\u001b[1;33m\u001b[0m\u001b[0m\n\u001b[0;32m     61\u001b[0m                 \u001b[1;32mwhile\u001b[0m \u001b[1;32mTrue\u001b[0m\u001b[1;33m:\u001b[0m\u001b[1;33m\u001b[0m\u001b[1;33m\u001b[0m\u001b[0m\n\u001b[1;32m---> 62\u001b[1;33m                         \u001b[0muser\u001b[0m\u001b[1;33m.\u001b[0m\u001b[0my_amount\u001b[0m \u001b[1;33m=\u001b[0m \u001b[0minput\u001b[0m\u001b[1;33m(\u001b[0m\u001b[1;34m'Please enter your yearly wage: '\u001b[0m\u001b[1;33m)\u001b[0m\u001b[1;33m\u001b[0m\u001b[1;33m\u001b[0m\u001b[0m\n\u001b[0m\u001b[0;32m     63\u001b[0m                         \u001b[1;32mtry\u001b[0m\u001b[1;33m:\u001b[0m\u001b[1;33m\u001b[0m\u001b[1;33m\u001b[0m\u001b[0m\n\u001b[0;32m     64\u001b[0m                                 \u001b[0mint\u001b[0m\u001b[1;33m(\u001b[0m\u001b[0muser\u001b[0m\u001b[1;33m.\u001b[0m\u001b[0my_amount\u001b[0m\u001b[1;33m)\u001b[0m \u001b[1;33m*\u001b[0m \u001b[1;36m0\u001b[0m \u001b[1;33m==\u001b[0m \u001b[1;36m0\u001b[0m\u001b[1;33m\u001b[0m\u001b[1;33m\u001b[0m\u001b[0m\n",
      "\u001b[1;31mNameError\u001b[0m: name 'user' is not defined"
     ]
    }
   ],
   "source": [
    "Pay_Calculator()"
   ]
  },
  {
   "cell_type": "code",
   "execution_count": 8,
   "metadata": {},
   "outputs": [
    {
     "name": "stdout",
     "output_type": "stream",
     "text": [
      "Welcome to the Pay Calculator created by Chanda!\n",
      "Press Enter to start!\n",
      " \n",
      "What would you like to calculate, hourly wage or yearly salary? hourly\n",
      "How many hours do you work per week? 40\n",
      "What is your vacation rate, if you dont have one then enter 1: 1\n",
      "Do you receive a bonus? Please add it up to a yearly value and enter it here: 3000\n",
      "Please enter your yearly wage: 62000\n",
      " \n",
      "Your hourly wage is $31.25 \n",
      "Your yearly wage is $62000.0\n"
     ]
    }
   ],
   "source": [
    "## This program will calculate a user's gross Salary or Hourly wage. \n",
    "\n",
    "## Start by asking user for option between calculating hourly wage or yearly pay\n",
    "\n",
    "def what_to_calculate():\n",
    "\n",
    "\t#Ask initial question\n",
    "\tinit_question = input('What would you like to calculate, hourly wage or yearly salary? ')\n",
    "\n",
    "\t#Start loop to confirm answer\n",
    "\twhile True:\n",
    "\t\tif init_question[0].lower() == 'h':\n",
    "\t\t\treturn 'hr'\n",
    "\t\t\tbreak\n",
    "\t\telif init_question[0].lower() == 'y':\n",
    "\t\t\treturn 'yr'\n",
    "\t\t\tbreak\n",
    "\t\telse:\n",
    "\t\t\tinit_question = input('Please enter either h for hourly wage or y for yearly salary, I cannot do anything else as of now: ')\n",
    "\n",
    "## Create Object to store entered information\n",
    "\n",
    "class Wage:\n",
    "\n",
    "\tdef __init__(self,h_amount=0,y_amount=0,vac_pay=0, bonus=0, hours=0):\n",
    "\n",
    "\t\t#h_amount is hourly wage entered\n",
    "\t\tself.h_amount = h_amount\n",
    "\n",
    "\t\t#y_amount is yearly wage entered\n",
    "\t\tself.y_amount = y_amount\n",
    "\t\t\n",
    "\t\t#vac_pay is vacation rate (entered as a percentage)\n",
    "\t\tself.vac_pay = vac_pay\n",
    "\n",
    "\t\t#bonus is amount of bonus paid in lump sum\n",
    "\t\tself.bonus = bonus\n",
    "\n",
    "\t\t#hours is number of hours worked in a week\n",
    "\t\tself.hours = hours\n",
    "\n",
    "## Create function to ask user to enter information\n",
    "\n",
    "def input_info(choice, user):\n",
    "\n",
    "\t#Start by asking for hours\n",
    "\twhile True:\n",
    "\t\tuser.hours = input('How many hours do you work per week? ')\n",
    "\t\ttry:\n",
    "\t\t\tfloat(user.hours) * 0 == 0\n",
    "\t\texcept:\n",
    "\t\t\tprint('Please enter numbers, I do not like letters!!!!!')\n",
    "\t\t\tcontinue\n",
    "\t\telse:\n",
    "\t\t\tuser.hours = float(user.hours)\n",
    "\t\t\tbreak\n",
    "\n",
    "\t#Next is asking for bonus rate\n",
    "\twhile True:\n",
    "\t\tuser.vac_pay = input('What is your vacation rate, if you dont have one then enter 1: ')\n",
    "\t\ttry:\n",
    "\t\t\tfloat(user.vac_pay) * 0 == 0\n",
    "\t\texcept:\n",
    "\t\t\tprint('Please enter numbers, I do not like letters!!!!!')\n",
    "\t\t\tcontinue\n",
    "\t\telse:\n",
    "\t\t\tuser.vac_pay = float(user.vac_pay)\n",
    "\t\t\tbreak\n",
    "\n",
    "\t#Finally ask for bonus\n",
    "\twhile True:\n",
    "\t\tuser.bonus = input('Do you receive a bonus? Please add it up to a yearly value and enter it here: ')\n",
    "\t\ttry:\n",
    "\t\t\tfloat(user.bonus) * 0 == 0\n",
    "\t\texcept:\n",
    "\t\t\tprint('Please enter numbers, I do not like letters!!!!!')\n",
    "\t\t\tcontinue\n",
    "\t\telse:\n",
    "\t\t\tuser.bonus = float(user.bonus)\n",
    "\t\t\tbreak\n",
    "\n",
    "\t#Choice of question depends on variable Choice which should equal either a string of hr or yr\n",
    "\n",
    "\t#Asks for HOURLY wage if user wants to calculate Yearly\n",
    "\tif choice == 'yr':\n",
    "\t\twhile True:\t\n",
    "\t\t\tuser.h_amount = input('Please enter your hourly wage: ')\n",
    "\t\t\ttry:\n",
    "\t\t\t\tfloat(user.h_amount) * 0 == 0\n",
    "\t\t\texcept:\n",
    "\t\t\t\tprint('Please enter numbers, I cannot understand letters!')\n",
    "\t\t\t\tcontinue\n",
    "\t\t\telse:\n",
    "\t\t\t\tuser.h_amount = float(user.h_amount)\n",
    "\t\t\t\tbreak\n",
    "\n",
    "\t#Asks for YEARLY wage if user wants to calculate Hourly\n",
    "\tif choice == 'hr':\n",
    "\t\twhile True:\t\n",
    "\t\t\tuser.y_amount = input('Please enter your yearly wage: ')\n",
    "\t\t\ttry:\n",
    "\t\t\t\tfloat(user.y_amount) * 0 == 0\n",
    "\t\t\texcept:\n",
    "\t\t\t\tprint('Please enter numbers, I cannot understand letters!')\n",
    "\t\t\t\tcontinue\n",
    "\t\t\telse:\n",
    "\t\t\t\tuser.y_amount = float(user.y_amount)\n",
    "\t\t\t\tbreak\n",
    "\n",
    "## Create final function to calculate\n",
    "\n",
    "def Pay_Calculator():\n",
    "\t\n",
    "\t#Set user object up\n",
    "\tuser = Wage()\n",
    "\n",
    "\t#Welcome user\n",
    "\tprint('Welcome to the Pay Calculator created by Chanda!')\n",
    "\tinput('Press Enter to start!')\n",
    "\tprint(' ')\n",
    "\n",
    "\t#Asks for info\n",
    "\tinput_info(what_to_calculate(),user)\n",
    "\n",
    "\tif user.h_amount == 0:\n",
    "\t\tif user.bonus == 0:\n",
    "\t\t\tuser.h_amount = round(user.y_amount / 52 / user.hours, 2)\n",
    "\t\telse:\n",
    "\t\t\tuser.h_amount = round((user.y_amount + user.bonus) / 52 / user.hours, 2)\n",
    "\n",
    "\tif user.y_amount == 0:\n",
    "\t\tuser.y_amount = round(user.h_amount * user.vac_pay * user.hours * 52 + user.bonus, 2)\n",
    "\n",
    "\tprint(' ')\n",
    "\tprint(f'Your hourly wage is ${user.h_amount} \\nYour yearly wage is ${user.y_amount}')\n",
    "\n",
    "## Run the final function\n",
    "\n",
    "Pay_Calculator()\n",
    "\n",
    "## Add the __main__ commands to confirm the running of this if this is main script that is run"
   ]
  },
  {
   "cell_type": "code",
   "execution_count": 6,
   "metadata": {},
   "outputs": [
    {
     "ename": "NameError",
     "evalue": "name 'user' is not defined",
     "output_type": "error",
     "traceback": [
      "\u001b[1;31m---------------------------------------------------------------------------\u001b[0m",
      "\u001b[1;31mNameError\u001b[0m                                 Traceback (most recent call last)",
      "\u001b[1;32m<ipython-input-6-4b629ff677c1>\u001b[0m in \u001b[0;36m<module>\u001b[1;34m\u001b[0m\n\u001b[1;32m----> 1\u001b[1;33m \u001b[0muser\u001b[0m\u001b[1;33m.\u001b[0m\u001b[0mvac_pay\u001b[0m\u001b[1;33m\u001b[0m\u001b[1;33m\u001b[0m\u001b[0m\n\u001b[0m",
      "\u001b[1;31mNameError\u001b[0m: name 'user' is not defined"
     ]
    }
   ],
   "source": []
  },
  {
   "cell_type": "code",
   "execution_count": null,
   "metadata": {},
   "outputs": [],
   "source": []
  }
 ],
 "metadata": {
  "kernelspec": {
   "display_name": "Python 3",
   "language": "python",
   "name": "python3"
  },
  "language_info": {
   "codemirror_mode": {
    "name": "ipython",
    "version": 3
   },
   "file_extension": ".py",
   "mimetype": "text/x-python",
   "name": "python",
   "nbconvert_exporter": "python",
   "pygments_lexer": "ipython3",
   "version": "3.7.4"
  }
 },
 "nbformat": 4,
 "nbformat_minor": 2
}
